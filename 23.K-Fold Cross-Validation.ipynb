{
  "nbformat": 4,
  "nbformat_minor": 0,
  "metadata": {
    "colab": {
      "provenance": []
    },
    "kernelspec": {
      "name": "python3",
      "display_name": "Python 3"
    },
    "language_info": {
      "name": "python"
    }
  },
  "cells": [
    {
      "cell_type": "markdown",
      "source": [
        "# **K-Fold Cross-Validation**"
      ],
      "metadata": {
        "id": "WNTWQuJuIjcG"
      }
    },
    {
      "cell_type": "code",
      "execution_count": 14,
      "metadata": {
        "id": "zlZ75uH7ynxA"
      },
      "outputs": [],
      "source": [
        "# importing libraries\n",
        "from sklearn.model_selection import KFold, cross_val_score #cross val score: for the validation score for each fold\n",
        "from sklearn.datasets import load_breast_cancer\n",
        "from sklearn.linear_model import LogisticRegression"
      ]
    },
    {
      "cell_type": "code",
      "source": [
        "# for ignoring warnings\n",
        "import warnings\n",
        "warnings.filterwarnings(\"ignore\")"
      ],
      "metadata": {
        "id": "eoh2Cg1bHzDv"
      },
      "execution_count": 15,
      "outputs": []
    },
    {
      "cell_type": "code",
      "source": [
        "cancer=load_breast_cancer()"
      ],
      "metadata": {
        "id": "wdqw9I-DGKjT"
      },
      "execution_count": 16,
      "outputs": []
    },
    {
      "cell_type": "code",
      "source": [
        "x,y=cancer.data,cancer.target"
      ],
      "metadata": {
        "id": "FY1k8x-GGui9"
      },
      "execution_count": 17,
      "outputs": []
    },
    {
      "cell_type": "code",
      "source": [
        "# initializing k folds=5, with shuffle\n",
        "kfold=KFold(n_splits=5,shuffle=True, random_state=42)"
      ],
      "metadata": {
        "id": "rOfdlMaFGy9Y"
      },
      "execution_count": 18,
      "outputs": []
    },
    {
      "cell_type": "code",
      "source": [
        "model=LogisticRegression()"
      ],
      "metadata": {
        "id": "ukiakUIiHTxk"
      },
      "execution_count": 19,
      "outputs": []
    },
    {
      "cell_type": "code",
      "source": [
        "# cross validation score, have to give model, k fold and input,outputs as parameters\n",
        "score=cross_val_score(model,x,y,cv=kfold)"
      ],
      "metadata": {
        "id": "IMZT9hu_HWwc"
      },
      "execution_count": 20,
      "outputs": []
    },
    {
      "cell_type": "code",
      "source": [
        "print(\"Score for Each Fold:\",score)"
      ],
      "metadata": {
        "colab": {
          "base_uri": "https://localhost:8080/"
        },
        "id": "qNVr6GFEHeTq",
        "outputId": "2ee3d402-2fbf-4b80-e624-d5ae4aaacf82"
      },
      "execution_count": 21,
      "outputs": [
        {
          "output_type": "stream",
          "name": "stdout",
          "text": [
            "Score for Each Fold: [0.96491228 0.96491228 0.89473684 0.97368421 0.92035398]\n"
          ]
        }
      ]
    },
    {
      "cell_type": "code",
      "source": [
        "print(\"Average K-Fold Score:\",score.mean())"
      ],
      "metadata": {
        "colab": {
          "base_uri": "https://localhost:8080/"
        },
        "id": "kCEz5SYbH_eM",
        "outputId": "f5b15e98-b537-4bdc-82b7-4e505cb5f897"
      },
      "execution_count": 22,
      "outputs": [
        {
          "output_type": "stream",
          "name": "stdout",
          "text": [
            "Average K-Fold Score: 0.9437199192671946\n"
          ]
        }
      ]
    },
    {
      "cell_type": "code",
      "source": [],
      "metadata": {
        "id": "pPMvAhKZIHtG"
      },
      "execution_count": 22,
      "outputs": []
    }
  ]
}